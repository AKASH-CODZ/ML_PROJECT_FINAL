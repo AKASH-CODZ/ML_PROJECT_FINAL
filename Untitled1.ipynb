{
 "cells": [
  {
   "cell_type": "code",
   "execution_count": null,
   "id": "0608d0f6-eaeb-4933-aceb-23fc03310279",
   "metadata": {},
   "outputs": [],
   "source": [
    "\n",
    "\n",
    "#FILE PREPROCESSING - convert to 64 bit and save it as png\n",
    "\n",
    "import ndjson\n",
    "import os\n",
    "import matplotlib.pyplot as plt\n",
    "from tqdm import tqdm\n",
    "\n",
    "\n",
    "file_paths = {\n",
    "    'sock': 'full-simplified-sock.ndjson',\n",
    "    'leaf': 'full-simplified-leaf.ndjson',\n",
    "    'hexagon': 'full-simplified-hexagon.ndjson',\n",
    "    'rainbow': 'full-simplified-rainbow.ndjson',\n",
    "    'star': 'full-simplified-star.ndjson'\n",
    "}\n",
    "\n",
    "base_dir = 'saved_12doodles'\n",
    "\n",
    "\n",
    "for category in file_paths.keys():\n",
    "    os.makedirs(os.path.join(base_dir, category), exist_ok=True)\n",
    "\n",
    "\n",
    "def draw_doodle(drawing, save_path, image_size=256):\n",
    "    plt.figure(figsize=(1, 1), dpi=image_size)\n",
    "    plt.axis('off')\n",
    "\n",
    "    for stroke in drawing:\n",
    "        x, y, *_ = stroke\n",
    "        plt.plot(x, y, color='black', linewidth=2)\n",
    "\n",
    "    plt.gca().invert_yaxis()\n",
    "    plt.subplots_adjust(left=0, right=1, top=1, bottom=0)\n",
    "    plt.savefig(save_path, bbox_inches='tight', pad_inches=0)\n",
    "    plt.close()\n",
    "\n",
    "\n",
    "for category, file_path in file_paths.items():\n",
    "    try:\n",
    "        with open(file_path) as f:\n",
    "            data = ndjson.load(f)\n",
    "\n",
    "       \n",
    "        data = data[:10000]\n",
    "\n",
    "        for i, sample in tqdm(enumerate(data), desc=f\"Processing {category}\", total=len(data)):\n",
    "            drawing = sample['drawing']\n",
    "            save_path = os.path.join(base_dir, category, f'{i}.png')\n",
    "            draw_doodle(drawing, save_path)\n",
    "\n",
    "        print(f\"✅ Saved {len(data)} images for {category}!\")\n",
    "        \n",
    "    except Exception as e:\n",
    "        print(f\"❌ Error loading {file_path}: {e}\")\n"
   ]
  },
  {
   "cell_type": "code",
   "execution_count": 61,
   "id": "4110582f-5f09-49c3-8c99-c4cae87ff230",
   "metadata": {},
   "outputs": [
    {
     "name": "stderr",
     "output_type": "stream",
     "text": [
      "Processing circle: 100%|██████████████████| 1001/1001 [00:00<00:00, 1576.70it/s]\n",
      "Processing triangle: 100%|████████████████| 1001/1001 [00:00<00:00, 1592.41it/s]\n",
      "Processing square: 100%|██████████████████| 1001/1001 [00:00<00:00, 1625.24it/s]\n",
      "Processing hexagon: 100%|█████████████████| 1001/1001 [00:00<00:00, 1590.83it/s]\n",
      "Processing leaf: 100%|████████████████████| 1001/1001 [00:00<00:00, 1608.77it/s]\n",
      "Processing sock: 100%|████████████████████| 1001/1001 [00:00<00:00, 1573.62it/s]\n"
     ]
    },
    {
     "name": "stdout",
     "output_type": "stream",
     "text": [
      "Data processing complete, and saved successfully.\n"
     ]
    }
   ],
   "source": [
    "import numpy as np\n",
    "import os\n",
    "from PIL import Image\n",
    "from tqdm import tqdm\n",
    "from sklearn.model_selection import train_test_split\n",
    "\n",
    "base_dir = 'saved_12doodles'  \n",
    "\n",
    "categories = ['circle', 'triangle', 'square', 'hexagon', 'leaf', 'sock']\n",
    "\n",
    "X = []\n",
    "Y = []\n",
    "\n",
    "for idx, category in enumerate(categories):\n",
    "    folder = os.path.join(base_dir, category)\n",
    "    filenames = os.listdir(folder)[:1001] \n",
    "\n",
    "    for filename in tqdm(filenames, desc=f\"Processing {category}\"):\n",
    "        if not filename.lower().endswith(('.png', '.jpg', '.jpeg')):\n",
    "            continue  \n",
    "        \n",
    "        img_path = os.path.join(folder, filename)\n",
    "        try:\n",
    "            img = Image.open(img_path).convert('L')  \n",
    "            img = img.resize((64, 64))  \n",
    "            img_array = np.array(img) / 255.0  \n",
    "            X.append(img_array)   \n",
    "            Y.append(idx)        \n",
    "        except Exception as e:\n",
    "            print(f\"Error loading image {filename}: {e}\")\n",
    "\n",
    "X = np.array(X).reshape(-1, 64, 64, 1)  \n",
    "Y = np.array(Y)\n",
    "\n",
    "X_train, X_test, Y_train, Y_test = train_test_split(X, Y, test_size=0.2, random_state=42)\n",
    "\n",
    "np.save('X_train.npy', X_train)\n",
    "np.save('Y_train.npy', Y_train)\n",
    "np.save('X_test.npy', X_test)\n",
    "np.save('Y_test.npy', Y_test)\n",
    "\n",
    "print(\"Data processing complete, and saved successfully.\")\n"
   ]
  },
  {
   "cell_type": "code",
   "execution_count": 71,
   "id": "06b51b8d-e669-4fb4-a83f-9ce3d7716afa",
   "metadata": {},
   "outputs": [],
   "source": [
    "model.save(\"shape_recognition_model_3.0.keras\")\n"
   ]
  },
  {
   "cell_type": "code",
   "execution_count": 69,
   "id": "164c4fed-42b8-4ae1-8199-650d8a8e6cba",
   "metadata": {
    "scrolled": true
   },
   "outputs": [
    {
     "name": "stderr",
     "output_type": "stream",
     "text": [
      "Training:   0%|                                          | 0/10 [00:00<?, ?it/s]"
     ]
    },
    {
     "name": "stdout",
     "output_type": "stream",
     "text": [
      "Epoch 1/10\n",
      "\u001b[1m76/76\u001b[0m \u001b[32m━━━━━━━━━━━━━━━━━━━━\u001b[0m\u001b[37m\u001b[0m \u001b[1m0s\u001b[0m 297ms/step - accuracy: 0.7847 - loss: 0.8245"
     ]
    },
    {
     "name": "stderr",
     "output_type": "stream",
     "text": [
      "Training:   0%|                                          | 0/10 [00:28<?, ?it/s]"
     ]
    },
    {
     "name": "stdout",
     "output_type": "stream",
     "text": [
      "Epoch 1/10 - Loss: 0.4550 - Accuracy: 0.9040\n",
      "\u001b[1m76/76\u001b[0m \u001b[32m━━━━━━━━━━━━━━━━━━━━\u001b[0m\u001b[37m\u001b[0m \u001b[1m29s\u001b[0m 377ms/step - accuracy: 0.7863 - loss: 0.8198 - val_accuracy: 0.9808 - val_loss: 0.1698 - learning_rate: 0.0010\n",
      "Epoch 2/10\n",
      "\u001b[1m76/76\u001b[0m \u001b[32m━━━━━━━━━━━━━━━━━━━━\u001b[0m\u001b[37m\u001b[0m \u001b[1m0s\u001b[0m 307ms/step - accuracy: 0.9697 - loss: 0.2019"
     ]
    },
    {
     "name": "stderr",
     "output_type": "stream",
     "text": [
      "Training:   0%|                                          | 0/10 [00:58<?, ?it/s]"
     ]
    },
    {
     "name": "stdout",
     "output_type": "stream",
     "text": [
      "Epoch 2/10 - Loss: 0.1917 - Accuracy: 0.9725\n",
      "\u001b[1m76/76\u001b[0m \u001b[32m━━━━━━━━━━━━━━━━━━━━\u001b[0m\u001b[37m\u001b[0m \u001b[1m29s\u001b[0m 387ms/step - accuracy: 0.9698 - loss: 0.2018 - val_accuracy: 0.9825 - val_loss: 0.1405 - learning_rate: 0.0010\n",
      "Epoch 3/10\n",
      "\u001b[1m76/76\u001b[0m \u001b[32m━━━━━━━━━━━━━━━━━━━━\u001b[0m\u001b[37m\u001b[0m \u001b[1m0s\u001b[0m 311ms/step - accuracy: 0.9701 - loss: 0.1937"
     ]
    },
    {
     "name": "stderr",
     "output_type": "stream",
     "text": [
      "Training:   0%|                                          | 0/10 [01:27<?, ?it/s]"
     ]
    },
    {
     "name": "stdout",
     "output_type": "stream",
     "text": [
      "Epoch 3/10 - Loss: 0.1788 - Accuracy: 0.9706\n",
      "\u001b[1m76/76\u001b[0m \u001b[32m━━━━━━━━━━━━━━━━━━━━\u001b[0m\u001b[37m\u001b[0m \u001b[1m30s\u001b[0m 390ms/step - accuracy: 0.9701 - loss: 0.1935 - val_accuracy: 0.9892 - val_loss: 0.1190 - learning_rate: 0.0010\n",
      "Epoch 4/10\n",
      "\u001b[1m76/76\u001b[0m \u001b[32m━━━━━━━━━━━━━━━━━━━━\u001b[0m\u001b[37m\u001b[0m \u001b[1m0s\u001b[0m 310ms/step - accuracy: 0.9783 - loss: 0.1456"
     ]
    },
    {
     "name": "stderr",
     "output_type": "stream",
     "text": [
      "Training:   0%|                                          | 0/10 [01:57<?, ?it/s]"
     ]
    },
    {
     "name": "stdout",
     "output_type": "stream",
     "text": [
      "Epoch 4/10 - Loss: 0.1522 - Accuracy: 0.9748\n",
      "\u001b[1m76/76\u001b[0m \u001b[32m━━━━━━━━━━━━━━━━━━━━\u001b[0m\u001b[37m\u001b[0m \u001b[1m29s\u001b[0m 388ms/step - accuracy: 0.9783 - loss: 0.1457 - val_accuracy: 0.9900 - val_loss: 0.1048 - learning_rate: 0.0010\n",
      "Epoch 5/10\n",
      "\u001b[1m76/76\u001b[0m \u001b[32m━━━━━━━━━━━━━━━━━━━━\u001b[0m\u001b[37m\u001b[0m \u001b[1m0s\u001b[0m 306ms/step - accuracy: 0.9812 - loss: 0.1334"
     ]
    },
    {
     "name": "stderr",
     "output_type": "stream",
     "text": [
      "Training:   0%|                                          | 0/10 [02:26<?, ?it/s]"
     ]
    },
    {
     "name": "stdout",
     "output_type": "stream",
     "text": [
      "Epoch 5/10 - Loss: 0.1319 - Accuracy: 0.9802\n",
      "\u001b[1m76/76\u001b[0m \u001b[32m━━━━━━━━━━━━━━━━━━━━\u001b[0m\u001b[37m\u001b[0m \u001b[1m29s\u001b[0m 386ms/step - accuracy: 0.9811 - loss: 0.1334 - val_accuracy: 0.9900 - val_loss: 0.0953 - learning_rate: 0.0010\n",
      "Epoch 6/10\n",
      "\u001b[1m76/76\u001b[0m \u001b[32m━━━━━━━━━━━━━━━━━━━━\u001b[0m\u001b[37m\u001b[0m \u001b[1m0s\u001b[0m 311ms/step - accuracy: 0.9760 - loss: 0.1369"
     ]
    },
    {
     "name": "stderr",
     "output_type": "stream",
     "text": [
      "Training:   0%|                                          | 0/10 [02:56<?, ?it/s]"
     ]
    },
    {
     "name": "stdout",
     "output_type": "stream",
     "text": [
      "Epoch 6/10 - Loss: 0.1347 - Accuracy: 0.9775\n",
      "\u001b[1m76/76\u001b[0m \u001b[32m━━━━━━━━━━━━━━━━━━━━\u001b[0m\u001b[37m\u001b[0m \u001b[1m30s\u001b[0m 391ms/step - accuracy: 0.9761 - loss: 0.1368 - val_accuracy: 0.9917 - val_loss: 0.0900 - learning_rate: 0.0010\n",
      "Epoch 7/10\n",
      "\u001b[1m76/76\u001b[0m \u001b[32m━━━━━━━━━━━━━━━━━━━━\u001b[0m\u001b[37m\u001b[0m \u001b[1m0s\u001b[0m 309ms/step - accuracy: 0.9803 - loss: 0.1194"
     ]
    },
    {
     "name": "stderr",
     "output_type": "stream",
     "text": [
      "Training:   0%|                                          | 0/10 [03:25<?, ?it/s]"
     ]
    },
    {
     "name": "stdout",
     "output_type": "stream",
     "text": [
      "Epoch 7/10 - Loss: 0.1379 - Accuracy: 0.9744\n",
      "\u001b[1m76/76\u001b[0m \u001b[32m━━━━━━━━━━━━━━━━━━━━\u001b[0m\u001b[37m\u001b[0m \u001b[1m29s\u001b[0m 388ms/step - accuracy: 0.9802 - loss: 0.1197 - val_accuracy: 0.9883 - val_loss: 0.0930 - learning_rate: 0.0010\n",
      "Epoch 8/10\n",
      "\u001b[1m76/76\u001b[0m \u001b[32m━━━━━━━━━━━━━━━━━━━━\u001b[0m\u001b[37m\u001b[0m \u001b[1m0s\u001b[0m 308ms/step - accuracy: 0.9790 - loss: 0.1285"
     ]
    },
    {
     "name": "stderr",
     "output_type": "stream",
     "text": [
      "Training:   0%|                                          | 0/10 [03:55<?, ?it/s]"
     ]
    },
    {
     "name": "stdout",
     "output_type": "stream",
     "text": [
      "Epoch 8/10 - Loss: 0.1194 - Accuracy: 0.9798\n",
      "\u001b[1m76/76\u001b[0m \u001b[32m━━━━━━━━━━━━━━━━━━━━\u001b[0m\u001b[37m\u001b[0m \u001b[1m29s\u001b[0m 388ms/step - accuracy: 0.9790 - loss: 0.1284 - val_accuracy: 0.9917 - val_loss: 0.0883 - learning_rate: 0.0010\n",
      "Epoch 9/10\n",
      "\u001b[1m76/76\u001b[0m \u001b[32m━━━━━━━━━━━━━━━━━━━━\u001b[0m\u001b[37m\u001b[0m \u001b[1m0s\u001b[0m 309ms/step - accuracy: 0.9861 - loss: 0.1036"
     ]
    },
    {
     "name": "stderr",
     "output_type": "stream",
     "text": [
      "Training:   0%|                                          | 0/10 [04:24<?, ?it/s]"
     ]
    },
    {
     "name": "stdout",
     "output_type": "stream",
     "text": [
      "Epoch 9/10 - Loss: 0.1041 - Accuracy: 0.9844\n",
      "\u001b[1m76/76\u001b[0m \u001b[32m━━━━━━━━━━━━━━━━━━━━\u001b[0m\u001b[37m\u001b[0m \u001b[1m29s\u001b[0m 388ms/step - accuracy: 0.9861 - loss: 0.1036 - val_accuracy: 0.9933 - val_loss: 0.0829 - learning_rate: 0.0010\n",
      "Epoch 10/10\n",
      "\u001b[1m76/76\u001b[0m \u001b[32m━━━━━━━━━━━━━━━━━━━━\u001b[0m\u001b[37m\u001b[0m \u001b[1m0s\u001b[0m 313ms/step - accuracy: 0.9753 - loss: 0.1313"
     ]
    },
    {
     "name": "stderr",
     "output_type": "stream",
     "text": [
      "Training:   0%|                                          | 0/10 [04:54<?, ?it/s]"
     ]
    },
    {
     "name": "stdout",
     "output_type": "stream",
     "text": [
      "Epoch 10/10 - Loss: 0.1993 - Accuracy: 0.9527\n",
      "\u001b[1m76/76\u001b[0m \u001b[32m━━━━━━━━━━━━━━━━━━━━\u001b[0m\u001b[37m\u001b[0m \u001b[1m30s\u001b[0m 392ms/step - accuracy: 0.9750 - loss: 0.1322 - val_accuracy: 0.9867 - val_loss: 0.1010 - learning_rate: 0.0010\n"
     ]
    },
    {
     "name": "stderr",
     "output_type": "stream",
     "text": [
      "Training: 100%|█████████████████████████████████| 10/10 [04:54<00:00, 29.44s/it]"
     ]
    },
    {
     "name": "stdout",
     "output_type": "stream",
     "text": [
      "\u001b[1m 1/38\u001b[0m \u001b[37m━━━━━━━━━━━━━━━━━━━━\u001b[0m \u001b[1m6s\u001b[0m 164ms/step - accuracy: 1.0000 - loss: 0.0540"
     ]
    },
    {
     "name": "stderr",
     "output_type": "stream",
     "text": [
      "\n"
     ]
    },
    {
     "name": "stdout",
     "output_type": "stream",
     "text": [
      "\u001b[1m38/38\u001b[0m \u001b[32m━━━━━━━━━━━━━━━━━━━━\u001b[0m\u001b[37m\u001b[0m \u001b[1m6s\u001b[0m 159ms/step - accuracy: 0.9943 - loss: 0.0872\n",
      "Test Accuracy: 0.9933\n"
     ]
    },
    {
     "data": {
      "image/png": "[encoded data removed]",
      "text/plain": [
       "<Figure size 640x480 with 1 Axes>"
      ]
     },
     "metadata": {},
     "output_type": "display_data"
    },
    {
     "data": {
      "image/png": "[encoded data removed]",
      "text/plain": [
       "<Figure size 640x480 with 1 Axes>"
      ]
     },
     "metadata": {},
     "output_type": "display_data"
    }
   ],
   "source": [
    "\n",
    "####TESTER\n",
    "\n",
    "import tensorflow as tf\n",
    "from tensorflow.keras import regularizers\n",
    "from tensorflow.keras.preprocessing.image import ImageDataGenerator\n",
    "from tqdm import tqdm\n",
    "import numpy as np\n",
    "import matplotlib.pyplot as plt\n",
    "\n",
    "\n",
    "tf.random.set_seed(42)\n",
    "np.random.seed(42)\n",
    "\n",
    "\n",
    "class TQDMProgressBar(tf.keras.callbacks.Callback):\n",
    "    def on_epoch_end(self, epoch, logs=None):\n",
    "        tqdm.write(f\"Epoch {epoch + 1}/{self.params['epochs']} - Loss: {logs['loss']:.4f} - Accuracy: {logs['accuracy']:.4f}\")\n",
    "\n",
    "\n",
    "\n",
    "\n",
    "X_train_rgb = np.repeat(X_train, 3, axis=-1)\n",
    "X_test_rgb = np.repeat(X_test, 3, axis=-1)\n",
    "\n",
    "\n",
    "datagen = ImageDataGenerator(\n",
    "    rotation_range=20,\n",
    "    width_shift_range=0.2,\n",
    "    height_shift_range=0.2,\n",
    "    shear_range=0.2,\n",
    "    zoom_range=0.2,\n",
    "    horizontal_flip=True,\n",
    "    fill_mode='nearest'\n",
    ")\n",
    "\n",
    "datagen.fit(X_train_rgb)\n",
    "\n",
    "\n",
    "base_model = tf.keras.applications.VGG16(include_top=False, weights='imagenet', input_shape=(64, 64, 3))\n",
    "\n",
    "\n",
    "base_model.trainable = False\n",
    "\n",
    "\n",
    "model = tf.keras.Sequential([\n",
    "    base_model,\n",
    "    tf.keras.layers.Flatten(),\n",
    "    tf.keras.layers.Dense(128, activation='relu', kernel_regularizer=regularizers.l2(0.001)),\n",
    "    tf.keras.layers.Dropout(0.3),\n",
    "    tf.keras.layers.Dense(6, activation='softmax')\n",
    "])\n",
    "\n",
    "\n",
    "model.compile(optimizer='adam',\n",
    "              loss='sparse_categorical_crossentropy',\n",
    "              metrics=['accuracy'])\n",
    "\n",
    "\n",
    "early_stopping = tf.keras.callbacks.EarlyStopping(monitor='val_loss', patience=3, restore_best_weights=True)\n",
    "\n",
    "\n",
    "lr_scheduler = tf.keras.callbacks.ReduceLROnPlateau(monitor='val_loss', factor=0.5, patience=2, min_lr=1e-6)\n",
    "\n",
    "\n",
    "with tqdm(total=10, desc=\"Training\", position=0) as pbar:\n",
    "    history = model.fit(datagen.flow(X_train_rgb, Y_train, batch_size=64),\n",
    "                        epochs=10,\n",
    "                        validation_data=(X_test_rgb, Y_test),\n",
    "                        callbacks=[TQDMProgressBar(), early_stopping, lr_scheduler])\n",
    "    pbar.update(10)\n",
    "\n",
    "\n",
    "test_loss, test_acc = model.evaluate(X_test_rgb, Y_test)\n",
    "print(f\"Test Accuracy: {test_acc:.4f}\")\n",
    "\n",
    "\n",
    "plt.plot(history.history.get('accuracy', []), label='train accuracy')\n",
    "plt.plot(history.history.get('val_accuracy', []), label='val accuracy')\n",
    "plt.title('Model Accuracy')\n",
    "plt.xlabel('Epochs')\n",
    "plt.ylabel('Accuracy')\n",
    "plt.legend(loc='best')\n",
    "plt.show()\n",
    "\n",
    "\n",
    "plt.plot(history.history.get('loss', []), label='train loss')\n",
    "plt.plot(history.history.get('val_loss', []), label='val loss')\n",
    "plt.title('Model Loss')\n",
    "plt.xlabel('Epochs')\n",
    "plt.ylabel('Loss')\n",
    "plt.legend(loc='best')\n",
    "plt.show()\n"
   ]
  },
  {
   "cell_type": "code",
   "execution_count": 383,
   "id": "a37c6ae0-1bec-4352-9ede-e50e9452c0e7",
   "metadata": {},
   "outputs": [
    {
     "data": {
      "image/png": "[encoded data removed]",
      "text/plain": [
       "<Figure size 640x480 with 1 Axes>"
      ]
     },
     "metadata": {},
     "output_type": "display_data"
    },
    {
     "name": "stdout",
     "output_type": "stream",
     "text": [
      "\u001b[1m1/1\u001b[0m \u001b[32m━━━━━━━━━━━━━━━━━━━━\u001b[0m\u001b[37m\u001b[0m \u001b[1m0s\u001b[0m 61ms/step\n",
      "Prediction Vector: [[9.7966063e-07 8.4756211e-05 9.9959940e-01 2.9764444e-04 5.2129335e-06\n",
      "  1.2028383e-05]]\n",
      "Predicted Class: square\n"
     ]
    }
   ],
   "source": [
    "import numpy as np\n",
    "import tensorflow as tf\n",
    "import matplotlib.pyplot as plt\n",
    "import random\n",
    "\n",
    "\n",
    "model = tf.keras.models.load_model('shape_recognition_model_3.0.keras')\n",
    "\n",
    "\n",
    "class_names  = ['circle', 'triangle', 'square', 'hexagon', 'leaf', 'sock']\n",
    "\n",
    "\n",
    "random_index = random.randint(0, len(x_test) - 1)\n",
    "\n",
    "\n",
    "img = x_test[random_index]\n",
    "\n",
    "# Display the image\n",
    "plt.imshow(img.squeeze(), cmap='gray')  \n",
    "plt.title(\"Test Image\")\n",
    "plt.axis('off')\n",
    "plt.show()\n",
    "\n",
    "\n",
    "if img.shape[-1] == 1:\n",
    "    img_input = np.repeat(img, 3, axis=-1) \n",
    "else:\n",
    "    img_input = img\n",
    "\n",
    "img_input = img_input.reshape(1, 64, 64, 3)  \n",
    "\n",
    "\n",
    "prediction = model.predict(img_input)\n",
    "\n",
    "predicted_index = np.argmax(prediction)\n",
    "predicted_class = class_names[predicted_index]\n",
    "\n",
    "print(f\"Prediction Vector: {prediction}\")\n",
    "print(f\"Predicted Class: {predicted_class}\")\n"
   ]
  },
  {
   "cell_type": "code",
   "execution_count": 401,
   "id": "6db0024a-21dd-44ff-89e0-e4bf8be65242",
   "metadata": {},
   "outputs": [
    {
     "data": {
      "image/png": "[encoded data removed]",
      "text/plain": [
       "<Figure size 640x480 with 1 Axes>"
      ]
     },
     "metadata": {},
     "output_type": "display_data"
    },
    {
     "name": "stdout",
     "output_type": "stream",
     "text": [
      "\u001b[1m1/1\u001b[0m \u001b[32m━━━━━━━━━━━━━━━━━━━━\u001b[0m\u001b[37m\u001b[0m \u001b[1m0s\u001b[0m 64ms/step\n",
      "Prediction Vector: [[0.02427028 0.03040052 0.3225569  0.00830822 0.5361922  0.07827191]]\n",
      "Predicted Class: leaf\n"
     ]
    }
   ],
   "source": [
    "import numpy as np\n",
    "import tensorflow as tf\n",
    "import matplotlib.pyplot as plt\n",
    "from PIL import Image\n",
    "\n",
    "# Load model\n",
    "model = tf.keras.models.load_model('shape_recognition_model_3.0.keras')\n",
    "\n",
    "# Define class names\n",
    "class_names = ['circle', 'triangle', 'square', 'hexagon', 'leaf', 'sock']\n",
    "\n",
    "# Load and preprocess the image\n",
    "image_path = 'drawing.png'  # Use your drawing image\n",
    "img = Image.open(image_path).convert('L')  # Convert to grayscale\n",
    "img = img.resize((64, 64))  # Resize to model input shape\n",
    "img_array = np.array(img) / 255.0  # Normalize to [0, 1]\n",
    "\n",
    "# Display the image\n",
    "plt.imshow(img_array, cmap='gray')\n",
    "plt.title(\"Test Image\")\n",
    "plt.axis('off')\n",
    "plt.show()\n",
    "\n",
    "# Convert to RGB by repeating the channel 3 times\n",
    "img_rgb = np.repeat(img_array[..., np.newaxis], 3, axis=-1)\n",
    "img_input = img_rgb.reshape(1, 64, 64, 3)\n",
    "\n",
    "# Predict\n",
    "prediction = model.predict(img_input)\n",
    "predicted_index = np.argmax(prediction)\n",
    "predicted_class = class_names[predicted_index]\n",
    "\n",
    "# Output results\n",
    "print(f\"Prediction Vector: {prediction}\")\n",
    "print(f\"Predicted Class: {predicted_class}\")\n"
   ]
  },
  {
   "cell_type": "code",
   "execution_count": null,
   "id": "84f556f2-b0bf-4e0d-81e3-e31f8392851d",
   "metadata": {},
   "outputs": [
    {
     "name": "stdout",
     "output_type": "stream",
     "text": [
      "Label distribution: Counter({2: 824, 4: 813, 5: 806, 3: 795, 0: 785, 1: 778})\n",
      "Epoch 1/50\n",
      "\u001b[1m76/76\u001b[0m \u001b[32m━━━━━━━━━━━━━━━━━━━━\u001b[0m\u001b[37m\u001b[0m \u001b[1m109s\u001b[0m 1s/step - accuracy: 0.1900 - loss: 2.0326 - val_accuracy: 0.3589 - val_loss: 1.7584 - learning_rate: 5.0000e-04\n",
      "Epoch 2/50\n",
      "\u001b[1m76/76\u001b[0m \u001b[32m━━━━━━━━━━━━━━━━━━━━\u001b[0m\u001b[37m\u001b[0m \u001b[1m105s\u001b[0m 1s/step - accuracy: 0.3473 - loss: 1.5789 - val_accuracy: 0.6686 - val_loss: 0.9380 - learning_rate: 5.0000e-04\n",
      "Epoch 3/50\n",
      "\u001b[1m76/76\u001b[0m \u001b[32m━━━━━━━━━━━━━━━━━━━━\u001b[0m\u001b[37m\u001b[0m \u001b[1m103s\u001b[0m 1s/step - accuracy: 0.5682 - loss: 1.0537 - val_accuracy: 0.7669 - val_loss: 0.5661 - learning_rate: 5.0000e-04\n",
      "Epoch 4/50\n",
      "\u001b[1m76/76\u001b[0m \u001b[32m━━━━━━━━━━━━━━━━━━━━\u001b[0m\u001b[37m\u001b[0m \u001b[1m103s\u001b[0m 1s/step - accuracy: 0.7025 - loss: 0.7433 - val_accuracy: 0.8152 - val_loss: 0.3559 - learning_rate: 5.0000e-04\n",
      "Epoch 5/50\n",
      "\u001b[1m22/76\u001b[0m \u001b[32m━━━━━\u001b[0m\u001b[37m━━━━━━━━━━━━━━━\u001b[0m \u001b[1m1:10\u001b[0m 1s/step - accuracy: 0.7953 - loss: 0.5402"
     ]
    }
   ],
   "source": [
    "# === OPTIMIZED TRAINING SCRIPT FOR SHAPE RECOGNITION ===\n",
    "\n",
    "import numpy as np\n",
    "import tensorflow as tf\n",
    "from tensorflow.keras import regularizers\n",
    "from tensorflow.keras.preprocessing.image import ImageDataGenerator\n",
    "from sklearn.model_selection import train_test_split\n",
    "import matplotlib.pyplot as plt\n",
    "from collections import Counter\n",
    "\n",
    "# === SEEDING FOR REPRODUCIBILITY ===\n",
    "tf.random.set_seed(42)\n",
    "np.random.seed(42)\n",
    "\n",
    "# === LOAD DATA ===\n",
    "X = np.load('X_train.npy')\n",
    "Y = np.load('Y_train.npy')\n",
    "X_test = np.load('X_test.npy')\n",
    "Y_test = np.load('Y_test.npy')\n",
    "\n",
    "print(\"Label distribution:\", Counter(Y))\n",
    "\n",
    "# === CONVERT TO RGB ===\n",
    "X_rgb = np.repeat(X, 3, axis=-1)\n",
    "X_test_rgb = np.repeat(X_test, 3, axis=-1)\n",
    "\n",
    "# === AUGMENTATION ===\n",
    "datagen = ImageDataGenerator(\n",
    "    rotation_range=20,\n",
    "    width_shift_range=0.2,\n",
    "    height_shift_range=0.2,\n",
    "    shear_range=0.2,\n",
    "    zoom_range=0.2,\n",
    "    horizontal_flip=True,\n",
    "    fill_mode='nearest'\n",
    ")\n",
    "\n",
    "datagen.fit(X_rgb)\n",
    "\n",
    "# === BASE MODEL: UNFREEZE LAYERS ===\n",
    "base_model = tf.keras.applications.VGG16(include_top=False, weights='imagenet', input_shape=(64, 64, 3))\n",
    "\n",
    "for layer in base_model.layers[-4:]:  # unfreeze last 4 conv layers\n",
    "    layer.trainable = True\n",
    "\n",
    "# === FULL MODEL ===\n",
    "model = tf.keras.Sequential([\n",
    "    base_model,\n",
    "    tf.keras.layers.GlobalAveragePooling2D(),\n",
    "    tf.keras.layers.Dense(128, activation='relu', kernel_regularizer=regularizers.l2(0.001)),\n",
    "    tf.keras.layers.Dropout(0.4),\n",
    "    tf.keras.layers.Dense(6, activation='softmax')\n",
    "])\n",
    "\n",
    "model.compile(optimizer=tf.keras.optimizers.Adam(learning_rate=0.0005),\n",
    "              loss='sparse_categorical_crossentropy',\n",
    "              metrics=['accuracy'])\n",
    "\n",
    "# === CALLBACKS ===\n",
    "early_stopping = tf.keras.callbacks.EarlyStopping(monitor='val_loss', patience=5, restore_best_weights=True)\n",
    "lr_scheduler = tf.keras.callbacks.ReduceLROnPlateau(monitor='val_loss', factor=0.5, patience=2, min_lr=1e-6)\n",
    "\n",
    "# === TRAIN ===\n",
    "history = model.fit(\n",
    "    datagen.flow(X_rgb, Y, batch_size=64),\n",
    "    epochs=50,\n",
    "    validation_data=(X_test_rgb, Y_test),\n",
    "    callbacks=[early_stopping, lr_scheduler]\n",
    ")\n",
    "\n",
    "# === EVALUATE ===\n",
    "test_loss, test_acc = model.evaluate(X_test_rgb, Y_test)\n",
    "print(f\"\\n✅ Final Test Accuracy: {test_acc:.4f}\")\n",
    "\n",
    "# === SAVE MODEL ===\n",
    "model.save('shape_recognition_model_optimized.keras')\n",
    "\n",
    "# === PLOTS ===\n",
    "plt.plot(history.history['accuracy'], label='train acc')\n",
    "plt.plot(history.history['val_accuracy'], label='val acc')\n",
    "plt.legend()\n",
    "plt.title('Accuracy')\n",
    "plt.show()\n",
    "\n",
    "plt.plot(history.history['loss'], label='train loss')\n",
    "plt.plot(history.history['val_loss'], label='val loss')\n",
    "plt.legend()\n",
    "plt.title('Loss')\n",
    "plt.show()\n"
   ]
  },
  {
   "cell_type": "code",
   "execution_count": null,
   "id": "f5066b02-20fd-4b9a-b3f8-cbf32c781bc9",
   "metadata": {},
   "outputs": [],
   "source": []
  }
 ],
 "metadata": {
  "kernelspec": {
   "display_name": "Python 3 (ipykernel)",
   "language": "python",
   "name": "python3"
  },
  "language_info": {
   "codemirror_mode": {
    "name": "ipython",
    "version": 3
   },
   "file_extension": ".py",
   "mimetype": "text/x-python",
   "name": "python",
   "nbconvert_exporter": "python",
   "pygments_lexer": "ipython3",
   "version": "3.12.2"
  }
 },
 "nbformat": 4,
 "nbformat_minor": 5
}
